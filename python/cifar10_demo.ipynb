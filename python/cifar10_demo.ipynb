{
 "cells": [
  {
   "cell_type": "code",
   "execution_count": null,
   "metadata": {},
   "outputs": [],
   "source": [
    "import os, sys, cv2, time\n",
    "old_stdout = sys.stdout\n",
    "\n",
    "import configparser\n",
    "import numpy as np\n",
    "import matplotlib.pyplot as plt\n",
    "\n",
    "from contextlib import contextmanager\n",
    "from simplenet_cifer10 import *\n",
    "from PIL import Image\n",
    "\n",
    "@contextmanager\n",
    "def silence_stdout():\n",
    "    old_target = sys.stdout\n",
    "    try:\n",
    "        with open(os.devnull, \"w\") as new_target:\n",
    "            sys.stdout = new_target\n",
    "            yield new_target\n",
    "    finally:\n",
    "        sys.stdout = old_target"
   ]
  },
  {
   "cell_type": "code",
   "execution_count": null,
   "metadata": {},
   "outputs": [],
   "source": [
    "I = Image.open('./files/ship2truck.png')\n",
    "# I = Image.open('./files/plane.png')\n",
    "\n",
    "I = I.convert(\"RGB\")\n",
    "I_array = np.array(I)\n",
    "# I_array = cv2.resize(I_array, (64,64))\n",
    "\n",
    "def imshow(img):\n",
    "    #img = img / 2 + 0.5     # unnormalize\n",
    "    #npimg = img.numpy()\n",
    "    plt.imshow(img)\n",
    "    plt.show()\n",
    "    #return npimg\n",
    "imshow(I_array)"
   ]
  },
  {
   "cell_type": "code",
   "execution_count": null,
   "metadata": {},
   "outputs": [],
   "source": [
    "inference(I_array)"
   ]
  },
  {
   "cell_type": "code",
   "execution_count": null,
   "metadata": {},
   "outputs": [],
   "source": [
    "%timeit inference(I_array)"
   ]
  }
 ],
 "metadata": {
  "kernelspec": {
   "display_name": "Python 3",
   "language": "python",
   "name": "python3"
  },
  "language_info": {
   "codemirror_mode": {
    "name": "ipython",
    "version": 3
   },
   "file_extension": ".py",
   "mimetype": "text/x-python",
   "name": "python",
   "nbconvert_exporter": "python",
   "pygments_lexer": "ipython3",
   "version": "3.6.9"
  }
 },
 "nbformat": 4,
 "nbformat_minor": 2
}
